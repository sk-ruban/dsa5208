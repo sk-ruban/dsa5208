{
  "cells": [
    {
      "cell_type": "markdown",
      "metadata": {
        "colab_type": "text",
        "id": "view-in-github"
      },
      "source": [
        "<a href=\"https://colab.research.google.com/github/sk-ruban/dsa5208/blob/main/kernel_ridge_regression.ipynb\" target=\"_parent\"><img src=\"https://colab.research.google.com/assets/colab-badge.svg\" alt=\"Open In Colab\"/></a>"
      ]
    },
    {
      "cell_type": "markdown",
      "metadata": {
        "id": "Pyenq7obG4le"
      },
      "source": [
        "We will split the notebook into the following five sections:\n",
        "1. Data preparation\n",
        "2. Set up MPI processes\n",
        "3. Applying distributed kernel ridge regression\n",
        "4. Obtaining predicted median value using kernel function\n",
        "5. Evaluating model performance\n",
        "6. Cross Validation / Model Tuning\n"
      ]
    },
    {
      "cell_type": "code",
      "execution_count": 12,
      "metadata": {
        "id": "lkMqw3GRHz74"
      },
      "outputs": [],
      "source": [
        "# Install dependencies\n",
        "# !pip3 install wheel\n",
        "# !pip3 install mpi4py\n",
        "\n",
        "# Import Dependencies\n",
        "import numpy as np\n",
        "import pandas as pd\n",
        "import matplotlib.pyplot as pl\n",
        "from sklearn.preprocessing import MinMaxScaler\n",
        "from sklearn.model_selection import train_test_split\n",
        "\n",
        "# from mpi4py import MPI"
      ]
    },
    {
      "cell_type": "markdown",
      "metadata": {
        "id": "-Ge6TJIcHaRp"
      },
      "source": [
        "## **Data Preparation**"
      ]
    },
    {
      "cell_type": "code",
      "execution_count": 5,
      "metadata": {
        "colab": {
          "base_uri": "https://localhost:8080/",
          "height": 356
        },
        "id": "HhYbDDPvG8FK",
        "outputId": "19131633-5f98-4a81-902e-6bdba9f12f55"
      },
      "outputs": [
        {
          "name": "stdout",
          "output_type": "stream",
          "text": [
            "<class 'pandas.core.frame.DataFrame'>\n",
            "RangeIndex: 20433 entries, 0 to 20432\n",
            "Data columns (total 10 columns):\n",
            " #   Column            Non-Null Count  Dtype  \n",
            "---  ------            --------------  -----  \n",
            " 0   longitude         20433 non-null  float64\n",
            " 1   latitude          20433 non-null  float64\n",
            " 2   housingMedianAge  20433 non-null  int64  \n",
            " 3   totalRooms        20433 non-null  int64  \n",
            " 4   totalBedrooms     20433 non-null  int64  \n",
            " 5   population        20433 non-null  int64  \n",
            " 6   households        20433 non-null  int64  \n",
            " 7   medianIncome      20433 non-null  float64\n",
            " 8   oceanProximity    20433 non-null  int64  \n",
            " 9   medianHouseValue  20433 non-null  int64  \n",
            "dtypes: float64(3), int64(7)\n",
            "memory usage: 1.6 MB\n",
            "None\n",
            "\n",
            "First few rows:\n",
            "   longitude  latitude  housingMedianAge  totalRooms  totalBedrooms  \\\n",
            "0    -122.23     37.88                41         880            129   \n",
            "1    -122.22     37.86                21        7099           1106   \n",
            "2    -122.24     37.85                52        1467            190   \n",
            "3    -122.25     37.85                52        1274            235   \n",
            "4    -122.25     37.85                52        1627            280   \n",
            "\n",
            "   population  households  medianIncome  oceanProximity  medianHouseValue  \n",
            "0         322         126        8.3252               3            452600  \n",
            "1        2401        1138        8.3014               3            358500  \n",
            "2         496         177        7.2574               3            352100  \n",
            "3         558         219        5.6431               3            341300  \n",
            "4         565         259        3.8462               3            342200  \n"
          ]
        }
      ],
      "source": [
        "#Import Data\n",
        "df = pd.read_csv('data/housing.tsv', sep='\\t', header=None)\n"
      ]
    },
    {
      "cell_type": "code",
      "execution_count": null,
      "metadata": {},
      "outputs": [],
      "source": [
        "#Import\n",
        "\n",
        "df.columns = ['longitude', 'latitude', 'housingMedianAge', 'totalRooms',\n",
        "              'totalBedrooms', 'population', 'households', 'medianIncome',\n",
        "              'oceanProximity', 'medianHouseValue']\n",
        "\n",
        "              \n",
        "# Display basic information\n",
        "print(df.info())\n",
        "print(\"\\nFirst few rows:\")\n",
        "print(df.head())\n"
      ]
    },
    {
      "cell_type": "code",
      "execution_count": 10,
      "metadata": {
        "id": "KtocUfNLH-kh"
      },
      "outputs": [
        {
          "name": "stdout",
          "output_type": "stream",
          "text": [
            "\n",
            "Dataset after preprocessing:\n",
            "   longitude  latitude  housingMedianAge  totalRooms  totalBedrooms  \\\n",
            "0   0.211155  0.567481          0.784314    0.022331       0.019863   \n",
            "1   0.212151  0.565356          0.392157    0.180503       0.171477   \n",
            "2   0.210159  0.564293          1.000000    0.037260       0.029330   \n",
            "3   0.209163  0.564293          1.000000    0.032352       0.036313   \n",
            "4   0.209163  0.564293          1.000000    0.041330       0.043296   \n",
            "\n",
            "   population  households  medianIncome  oceanProximity  medianHouseValue  \n",
            "0    0.008941    0.020556      0.539668            0.75          0.902266  \n",
            "1    0.067210    0.186976      0.538027            0.75          0.708247  \n",
            "2    0.013818    0.028943      0.466028            0.75          0.695051  \n",
            "3    0.015555    0.035849      0.354699            0.75          0.672783  \n",
            "4    0.015752    0.042427      0.230776            0.75          0.674638  \n"
          ]
        }
      ],
      "source": [
        "#Normalize Data\n",
        "\n",
        "features = ['longitude', 'latitude', 'housingMedianAge', 'totalRooms',\n",
        "              'totalBedrooms', 'population', 'households', 'medianIncome',\n",
        "              'oceanProximity', 'medianHouseValue']\n",
        "\n",
        "scaler = MinMaxScaler()\n",
        "df[features] = scaler.fit_transform(df[features])\n",
        "\n",
        "print(\"\\nDataset after preprocessing:\")\n",
        "print(df.head())"
      ]
    },
    {
      "cell_type": "code",
      "execution_count": 15,
      "metadata": {},
      "outputs": [
        {
          "name": "stdout",
          "output_type": "stream",
          "text": [
            "Training set shape: (14303, 10)\n",
            "Test set shape: (6130, 10)\n"
          ]
        }
      ],
      "source": [
        "#Split Data\n",
        "\n",
        "X = df[features]\n",
        "y = df['medianHouseValue']\n",
        "\n",
        "X_train, X_test, y_train, y_test = train_test_split(X, y, test_size=0.3, random_state=42)\n",
        "\n",
        "print(\"Training set shape:\", X_train.shape)\n",
        "print(\"Test set shape:\", X_test.shape)"
      ]
    },
    {
      "cell_type": "markdown",
      "metadata": {
        "id": "_VFUcgudoedG"
      },
      "source": []
    },
    {
      "cell_type": "markdown",
      "metadata": {},
      "source": [
        "## **Set up MPI Processes**"
      ]
    },
    {
      "cell_type": "code",
      "execution_count": null,
      "metadata": {},
      "outputs": [],
      "source": [
        "# Code for MPI stuff, define no. of processes (rank no.)\n",
        "# Split data according to process"
      ]
    },
    {
      "cell_type": "markdown",
      "metadata": {
        "id": "T5r6WMHeofS_"
      },
      "source": [
        "## **Applying Kernel Ridge Regression**\n"
      ]
    },
    {
      "cell_type": "markdown",
      "metadata": {},
      "source": []
    },
    {
      "cell_type": "code",
      "execution_count": null,
      "metadata": {
        "id": "74ZsY2geomwH"
      },
      "outputs": [],
      "source": [
        "#A) Solve for Kernel Matrix K\n",
        "\n",
        "#A.1) Define Kernel Computation Function\n",
        "def compute_gaussian_kernel(X1, X2, sigma):\n",
        "    dists = np.sum(X1**2, axis=1).reshape(-1, 1) + np.sum(X2**2, axis=1) - 2 * np.dot(X1, X2.T) # |x1-x2|^2 = (x1)^2 + (x2)^2 -2(x1 . x2)\n",
        "    return np.exp(-dists / (2 * sigma ** 2))                                                    # exp( - dists / 2.sigma )\n",
        "\n",
        "\n",
        "#A.2) Apply Kernel Computation Function to all split data (Basically MPI shit)\n",
        "\n",
        "#A.3) Add up all the computed rows to get matrix K"
      ]
    },
    {
      "cell_type": "code",
      "execution_count": null,
      "metadata": {},
      "outputs": [],
      "source": [
        "#Solve for matrix A which is defined as K + lambda I\n",
        "\n",
        "#Solve for alpha, using A(alpha) = y, and the Conjugate Gradient Method\n",
        "\n",
        "#Our PREDICTOR function f(x) is defined as SUM to N of (alpha . k(x1,x2) ). We use that to predict median value!"
      ]
    },
    {
      "cell_type": "code",
      "execution_count": 17,
      "metadata": {},
      "outputs": [
        {
          "name": "stdout",
          "output_type": "stream",
          "text": [
            "Best parameters: {'alpha': 1, 'gamma': 1}\n",
            "Train RMSE: 0.00835074344332795\n",
            "Test RMSE: 0.008312276512706872\n"
          ]
        }
      ],
      "source": [
        "# Solve with SKLEARN\n",
        "from sklearn.kernel_ridge import KernelRidge\n",
        "from sklearn.model_selection import GridSearchCV\n",
        "from sklearn.metrics import mean_squared_error\n",
        "\n",
        "krr = KernelRidge(kernel='rbf')\n",
        "param_grid = {\n",
        "    'alpha': [1],\n",
        "    'gamma': [1]\n",
        "}\n",
        "\n",
        "grid_search = GridSearchCV(krr, param_grid, cv=5, scoring='neg_mean_squared_error')\n",
        "grid_search.fit(X_train, y_train)\n",
        "\n",
        "best_params = grid_search.best_params_\n",
        "print(\"Best parameters:\", best_params)\n",
        "\n",
        "best_model = KernelRidge(kernel='rbf', alpha=best_params['alpha'], gamma=best_params['gamma'])\n",
        "best_model.fit(X_train, y_train)\n",
        "\n",
        "y_train_pred = best_model.predict(X_train)\n",
        "y_test_pred = best_model.predict(X_test)\n",
        "train_rmse = np.sqrt(mean_squared_error(y_train, y_train_pred))\n",
        "test_rmse = np.sqrt(mean_squared_error(y_test, y_test_pred))\n",
        "\n",
        "print(\"Train RMSE:\", train_rmse)\n",
        "print(\"Test RMSE:\", test_rmse)"
      ]
    }
  ],
  "metadata": {
    "colab": {
      "include_colab_link": true,
      "provenance": []
    },
    "kernelspec": {
      "display_name": "Python 3",
      "name": "python3"
    },
    "language_info": {
      "codemirror_mode": {
        "name": "ipython",
        "version": 3
      },
      "file_extension": ".py",
      "mimetype": "text/x-python",
      "name": "python",
      "nbconvert_exporter": "python",
      "pygments_lexer": "ipython3",
      "version": "3.11.4"
    }
  },
  "nbformat": 4,
  "nbformat_minor": 0
}
